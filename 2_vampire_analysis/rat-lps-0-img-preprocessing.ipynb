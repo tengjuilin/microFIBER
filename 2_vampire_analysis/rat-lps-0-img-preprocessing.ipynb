{
 "cells": [
  {
   "cell_type": "markdown",
   "id": "82fc39e4",
   "metadata": {},
   "source": [
    "# Rat LPS Image Preprocessing\n",
    "\n",
    "19 May 2022\n",
    "\n",
    "Objective: Preprocess the given unlabeled images in `.npy` to labeled images in `.tif` for further VAMPIRE analysis.\n",
    "\n",
    "## Read, label, and write images"
   ]
  },
  {
   "cell_type": "code",
   "execution_count": 1,
   "id": "61db0e3b",
   "metadata": {
    "ExecuteTime": {
     "end_time": "2022-02-26T01:17:57.267239Z",
     "start_time": "2022-02-26T01:17:54.301897Z"
    }
   },
   "outputs": [],
   "source": [
    "import os\n",
    "import numpy as np\n",
    "import matplotlib.pyplot as plt\n",
    "import pandas as pd\n",
    "import skimage\n",
    "from skimage import io\n",
    "import vampire as vp"
   ]
  },
  {
   "cell_type": "code",
   "execution_count": 2,
   "id": "dd98541c-41d4-4e41-b69c-a956a0bd8f35",
   "metadata": {
    "ExecuteTime": {
     "end_time": "2022-02-26T01:17:57.316837Z",
     "start_time": "2022-02-26T01:17:57.292857Z"
    }
   },
   "outputs": [],
   "source": [
    "# set up filepaths to ndarrays\n",
    "DATA_DIR = r'C:\\Files\\github-projects\\nance-lab-data\\microfiber\\0-raw-rat-lps-ostu'\n",
    "filenames = np.array(os.listdir(DATA_DIR))  # assume the folder has only .npy files of interest\n",
    "os_path_join = np.vectorize(os.path.join)\n",
    "filepaths = os_path_join(DATA_DIR, filenames)"
   ]
  },
  {
   "cell_type": "code",
   "execution_count": 4,
   "id": "a3a49b51",
   "metadata": {
    "ExecuteTime": {
     "end_time": "2022-02-26T01:17:57.322778Z",
     "start_time": "2022-02-26T01:17:57.317791Z"
    }
   },
   "outputs": [],
   "source": [
    "def load_imgs(filepaths):\n",
    "    \"\"\"Filepaths are paths to images. Returns image ndarrays.\"\"\"\n",
    "    imgs = []\n",
    "    for filepath in filepaths:\n",
    "        imgs.append(skimage.measure.label(np.load(filepath)))\n",
    "    return imgs"
   ]
  },
  {
   "cell_type": "code",
   "execution_count": 5,
   "id": "902f7e9d",
   "metadata": {
    "ExecuteTime": {
     "end_time": "2022-02-26T01:18:10.141972Z",
     "start_time": "2022-02-26T01:17:57.323775Z"
    }
   },
   "outputs": [],
   "source": [
    "imgs = load_imgs(filepaths)"
   ]
  },
  {
   "cell_type": "code",
   "execution_count": 6,
   "id": "e32bf0e3",
   "metadata": {
    "ExecuteTime": {
     "end_time": "2022-02-26T01:18:10.150918Z",
     "start_time": "2022-02-26T01:18:10.142941Z"
    }
   },
   "outputs": [],
   "source": [
    "img_paths = pd.Series(filepaths).str.replace('npy', 'tif').to_numpy()"
   ]
  },
  {
   "cell_type": "code",
   "execution_count": 7,
   "id": "b3e20795",
   "metadata": {
    "ExecuteTime": {
     "end_time": "2022-02-26T01:18:10.161890Z",
     "start_time": "2022-02-26T01:18:10.154908Z"
    }
   },
   "outputs": [],
   "source": [
    "def save_imgs(img_set, save_img_paths):\n",
    "    for i in range(len(img_set)):\n",
    "        io.imsave(save_img_paths[i], img_set[i])"
   ]
  },
  {
   "cell_type": "code",
   "execution_count": 8,
   "id": "1ac938b0",
   "metadata": {
    "ExecuteTime": {
     "end_time": "2022-02-26T01:18:20.188290Z",
     "start_time": "2022-02-26T01:18:10.164883Z"
    }
   },
   "outputs": [
    {
     "name": "stderr",
     "output_type": "stream",
     "text": [
      "C:\\Users\\owen4\\AppData\\Local\\Temp\\ipykernel_10704\\1707061752.py:4: UserWarning: C:\\Files\\github-projects\\nance-lab-data\\microfiber\\0-raw-rat-lps-ostu\\2019-02-18_DAPI_Iba_LPS_100ng_0-24_24h_60x_scan_1_otsu_thresh.tif is a low contrast image\n",
      "  io.imsave(save_img_paths[i], img_set[i])\n",
      "C:\\Users\\owen4\\AppData\\Local\\Temp\\ipykernel_10704\\1707061752.py:4: UserWarning: C:\\Files\\github-projects\\nance-lab-data\\microfiber\\0-raw-rat-lps-ostu\\2019-02-18_DAPI_Iba_LPS_100ng_0-24_24h_60x_scan_2_otsu_thresh.tif is a low contrast image\n",
      "  io.imsave(save_img_paths[i], img_set[i])\n",
      "C:\\Users\\owen4\\AppData\\Local\\Temp\\ipykernel_10704\\1707061752.py:4: UserWarning: C:\\Files\\github-projects\\nance-lab-data\\microfiber\\0-raw-rat-lps-ostu\\2019-02-18_DAPI_Iba_LPS_100ng_0-24_24h_60x_scan_3_otsu_thresh.tif is a low contrast image\n",
      "  io.imsave(save_img_paths[i], img_set[i])\n",
      "C:\\Users\\owen4\\AppData\\Local\\Temp\\ipykernel_10704\\1707061752.py:4: UserWarning: C:\\Files\\github-projects\\nance-lab-data\\microfiber\\0-raw-rat-lps-ostu\\2019-02-18_DAPI_Iba_LPS_100ng_0-72_72h_60x_scan_1_otsu_thresh.tif is a low contrast image\n",
      "  io.imsave(save_img_paths[i], img_set[i])\n",
      "C:\\Users\\owen4\\AppData\\Local\\Temp\\ipykernel_10704\\1707061752.py:4: UserWarning: C:\\Files\\github-projects\\nance-lab-data\\microfiber\\0-raw-rat-lps-ostu\\2019-02-18_DAPI_Iba_LPS_100ng_0-72_72h_60x_scan_2_otsu_thresh.tif is a low contrast image\n",
      "  io.imsave(save_img_paths[i], img_set[i])\n",
      "C:\\Users\\owen4\\AppData\\Local\\Temp\\ipykernel_10704\\1707061752.py:4: UserWarning: C:\\Files\\github-projects\\nance-lab-data\\microfiber\\0-raw-rat-lps-ostu\\2019-02-18_DAPI_Iba_LPS_1ug_-3-0_24h_60x_scan_1_otsu_thresh.tif is a low contrast image\n",
      "  io.imsave(save_img_paths[i], img_set[i])\n",
      "C:\\Users\\owen4\\AppData\\Local\\Temp\\ipykernel_10704\\1707061752.py:4: UserWarning: C:\\Files\\github-projects\\nance-lab-data\\microfiber\\0-raw-rat-lps-ostu\\2019-02-18_DAPI_Iba_LPS_1ug_-3-0_24h_60x_scan_2_otsu_thresh.tif is a low contrast image\n",
      "  io.imsave(save_img_paths[i], img_set[i])\n",
      "C:\\Users\\owen4\\AppData\\Local\\Temp\\ipykernel_10704\\1707061752.py:4: UserWarning: C:\\Files\\github-projects\\nance-lab-data\\microfiber\\0-raw-rat-lps-ostu\\2019-02-18_DAPI_Iba_LPS_1ug_-3-0_72h_60x_scan_1_otsu_thresh.tif is a low contrast image\n",
      "  io.imsave(save_img_paths[i], img_set[i])\n",
      "C:\\Users\\owen4\\AppData\\Local\\Temp\\ipykernel_10704\\1707061752.py:4: UserWarning: C:\\Files\\github-projects\\nance-lab-data\\microfiber\\0-raw-rat-lps-ostu\\2019-02-18_DAPI_Iba_LPS_1ug_-3-0_72h_60x_scan_2_otsu_thresh.tif is a low contrast image\n",
      "  io.imsave(save_img_paths[i], img_set[i])\n",
      "C:\\Users\\owen4\\AppData\\Local\\Temp\\ipykernel_10704\\1707061752.py:4: UserWarning: C:\\Files\\github-projects\\nance-lab-data\\microfiber\\0-raw-rat-lps-ostu\\2019-02-18_DAPI_Iba_LPS_1ug_0-24_24h_60x_scan_1_otsu_thresh.tif is a low contrast image\n",
      "  io.imsave(save_img_paths[i], img_set[i])\n",
      "C:\\Users\\owen4\\AppData\\Local\\Temp\\ipykernel_10704\\1707061752.py:4: UserWarning: C:\\Files\\github-projects\\nance-lab-data\\microfiber\\0-raw-rat-lps-ostu\\2019-02-18_DAPI_Iba_LPS_1ug_0-24_24h_60x_scan_2_otsu_thresh.tif is a low contrast image\n",
      "  io.imsave(save_img_paths[i], img_set[i])\n",
      "C:\\Users\\owen4\\AppData\\Local\\Temp\\ipykernel_10704\\1707061752.py:4: UserWarning: C:\\Files\\github-projects\\nance-lab-data\\microfiber\\0-raw-rat-lps-ostu\\2019-02-18_DAPI_Iba_LPS_1ug_0-24_24h_60x_scan_3_otsu_thresh.tif is a low contrast image\n",
      "  io.imsave(save_img_paths[i], img_set[i])\n",
      "C:\\Users\\owen4\\AppData\\Local\\Temp\\ipykernel_10704\\1707061752.py:4: UserWarning: C:\\Files\\github-projects\\nance-lab-data\\microfiber\\0-raw-rat-lps-ostu\\2019-02-18_DAPI_Iba_LPS_1ug_0-72_72h_60x_scan_1_otsu_thresh.tif is a low contrast image\n",
      "  io.imsave(save_img_paths[i], img_set[i])\n",
      "C:\\Users\\owen4\\AppData\\Local\\Temp\\ipykernel_10704\\1707061752.py:4: UserWarning: C:\\Files\\github-projects\\nance-lab-data\\microfiber\\0-raw-rat-lps-ostu\\2019-02-18_DAPI_Iba_LPS_1ug_0-72_72h_60x_scan_2_otsu_thresh.tif is a low contrast image\n",
      "  io.imsave(save_img_paths[i], img_set[i])\n",
      "C:\\Users\\owen4\\AppData\\Local\\Temp\\ipykernel_10704\\1707061752.py:4: UserWarning: C:\\Files\\github-projects\\nance-lab-data\\microfiber\\0-raw-rat-lps-ostu\\2019-02-18_DAPI_Iba_NT_24h_60x_scan_1_otsu_thresh.tif is a low contrast image\n",
      "  io.imsave(save_img_paths[i], img_set[i])\n",
      "C:\\Users\\owen4\\AppData\\Local\\Temp\\ipykernel_10704\\1707061752.py:4: UserWarning: C:\\Files\\github-projects\\nance-lab-data\\microfiber\\0-raw-rat-lps-ostu\\2019-02-18_DAPI_Iba_NT_24h_60x_scan_2_otsu_thresh.tif is a low contrast image\n",
      "  io.imsave(save_img_paths[i], img_set[i])\n",
      "C:\\Users\\owen4\\AppData\\Local\\Temp\\ipykernel_10704\\1707061752.py:4: UserWarning: C:\\Files\\github-projects\\nance-lab-data\\microfiber\\0-raw-rat-lps-ostu\\2019-02-18_DAPI_Iba_NT_72h_60x_scan_1_otsu_thresh.tif is a low contrast image\n",
      "  io.imsave(save_img_paths[i], img_set[i])\n",
      "C:\\Users\\owen4\\AppData\\Local\\Temp\\ipykernel_10704\\1707061752.py:4: UserWarning: C:\\Files\\github-projects\\nance-lab-data\\microfiber\\0-raw-rat-lps-ostu\\2019-02-18_DAPI_Iba_NT_72h_60x_scan_2_otsu_thresh.tif is a low contrast image\n",
      "  io.imsave(save_img_paths[i], img_set[i])\n",
      "C:\\Users\\owen4\\AppData\\Local\\Temp\\ipykernel_10704\\1707061752.py:4: UserWarning: C:\\Files\\github-projects\\nance-lab-data\\microfiber\\0-raw-rat-lps-ostu\\2019-02-18_DAPI_Iba_NT_72h_60x_scan_3_otsu_thresh.tif is a low contrast image\n",
      "  io.imsave(save_img_paths[i], img_set[i])\n",
      "C:\\Users\\owen4\\AppData\\Local\\Temp\\ipykernel_10704\\1707061752.py:4: UserWarning: C:\\Files\\github-projects\\nance-lab-data\\microfiber\\0-raw-rat-lps-ostu\\2019-02-25_LPS_10ug_24h_60x_scan_1_otsu_thresh.tif is a low contrast image\n",
      "  io.imsave(save_img_paths[i], img_set[i])\n",
      "C:\\Users\\owen4\\AppData\\Local\\Temp\\ipykernel_10704\\1707061752.py:4: UserWarning: C:\\Files\\github-projects\\nance-lab-data\\microfiber\\0-raw-rat-lps-ostu\\2019-02-25_LPS_10ug_24h_60x_scan_2_otsu_thresh.tif is a low contrast image\n",
      "  io.imsave(save_img_paths[i], img_set[i])\n",
      "C:\\Users\\owen4\\AppData\\Local\\Temp\\ipykernel_10704\\1707061752.py:4: UserWarning: C:\\Files\\github-projects\\nance-lab-data\\microfiber\\0-raw-rat-lps-ostu\\2019-02-25_LPS_1ug_serum_24h_60x_scan_1_otsu_thresh.tif is a low contrast image\n",
      "  io.imsave(save_img_paths[i], img_set[i])\n",
      "C:\\Users\\owen4\\AppData\\Local\\Temp\\ipykernel_10704\\1707061752.py:4: UserWarning: C:\\Files\\github-projects\\nance-lab-data\\microfiber\\0-raw-rat-lps-ostu\\2019-02-25_LPS_1ug_serum_24h_60x_scan_2_otsu_thresh.tif is a low contrast image\n",
      "  io.imsave(save_img_paths[i], img_set[i])\n",
      "C:\\Users\\owen4\\AppData\\Local\\Temp\\ipykernel_10704\\1707061752.py:4: UserWarning: C:\\Files\\github-projects\\nance-lab-data\\microfiber\\0-raw-rat-lps-ostu\\2019-02-25_LPS_1ug_serum_24h_60x_scan_3_otsu_thresh.tif is a low contrast image\n",
      "  io.imsave(save_img_paths[i], img_set[i])\n",
      "C:\\Users\\owen4\\AppData\\Local\\Temp\\ipykernel_10704\\1707061752.py:4: UserWarning: C:\\Files\\github-projects\\nance-lab-data\\microfiber\\0-raw-rat-lps-ostu\\2019-02-25_LPS_1ug_serum_24h_60x_scan_4_otsu_thresh.tif is a low contrast image\n",
      "  io.imsave(save_img_paths[i], img_set[i])\n",
      "C:\\Users\\owen4\\AppData\\Local\\Temp\\ipykernel_10704\\1707061752.py:4: UserWarning: C:\\Files\\github-projects\\nance-lab-data\\microfiber\\0-raw-rat-lps-ostu\\2019-02-25_LPS_1ug_serum_24h_60x_scan_5_otsu_thresh.tif is a low contrast image\n",
      "  io.imsave(save_img_paths[i], img_set[i])\n",
      "C:\\Users\\owen4\\AppData\\Local\\Temp\\ipykernel_10704\\1707061752.py:4: UserWarning: C:\\Files\\github-projects\\nance-lab-data\\microfiber\\0-raw-rat-lps-ostu\\2019-02-25_NT_24h_60x_scan_1_otsu_thresh.tif is a low contrast image\n",
      "  io.imsave(save_img_paths[i], img_set[i])\n",
      "C:\\Users\\owen4\\AppData\\Local\\Temp\\ipykernel_10704\\1707061752.py:4: UserWarning: C:\\Files\\github-projects\\nance-lab-data\\microfiber\\0-raw-rat-lps-ostu\\2019-02-25_NT_24h_60x_scan_2_otsu_thresh.tif is a low contrast image\n",
      "  io.imsave(save_img_paths[i], img_set[i])\n",
      "C:\\Users\\owen4\\AppData\\Local\\Temp\\ipykernel_10704\\1707061752.py:4: UserWarning: C:\\Files\\github-projects\\nance-lab-data\\microfiber\\0-raw-rat-lps-ostu\\2019-02-25_NT_24h_60x_scan_3_otsu_thresh.tif is a low contrast image\n",
      "  io.imsave(save_img_paths[i], img_set[i])\n",
      "C:\\Users\\owen4\\AppData\\Local\\Temp\\ipykernel_10704\\1707061752.py:4: UserWarning: C:\\Files\\github-projects\\nance-lab-data\\microfiber\\0-raw-rat-lps-ostu\\2019-02-25_NT_24h_60x_scan_4_otsu_thresh.tif is a low contrast image\n",
      "  io.imsave(save_img_paths[i], img_set[i])\n",
      "C:\\Users\\owen4\\AppData\\Local\\Temp\\ipykernel_10704\\1707061752.py:4: UserWarning: C:\\Files\\github-projects\\nance-lab-data\\microfiber\\0-raw-rat-lps-ostu\\2019-02-25_NT_24h_60x_scan_5_otsu_thresh.tif is a low contrast image\n",
      "  io.imsave(save_img_paths[i], img_set[i])\n",
      "C:\\Users\\owen4\\AppData\\Local\\Temp\\ipykernel_10704\\1707061752.py:4: UserWarning: C:\\Files\\github-projects\\nance-lab-data\\microfiber\\0-raw-rat-lps-ostu\\2019-02-25_NT_serum_24h_60x_scan_1_otsu_thresh.tif is a low contrast image\n",
      "  io.imsave(save_img_paths[i], img_set[i])\n",
      "C:\\Users\\owen4\\AppData\\Local\\Temp\\ipykernel_10704\\1707061752.py:4: UserWarning: C:\\Files\\github-projects\\nance-lab-data\\microfiber\\0-raw-rat-lps-ostu\\2019-02-25_NT_serum_24h_60x_scan_2_otsu_thresh.tif is a low contrast image\n",
      "  io.imsave(save_img_paths[i], img_set[i])\n",
      "C:\\Users\\owen4\\AppData\\Local\\Temp\\ipykernel_10704\\1707061752.py:4: UserWarning: C:\\Files\\github-projects\\nance-lab-data\\microfiber\\0-raw-rat-lps-ostu\\2019-02-25_NT_serum_24h_60x_scan_3_otsu_thresh.tif is a low contrast image\n",
      "  io.imsave(save_img_paths[i], img_set[i])\n"
     ]
    }
   ],
   "source": [
    "import warnings\n",
    "warnings.filterwarnings(\"ignore\", category=UserWarning)  # expect low contrast .tif images\n",
    "save_imgs(imgs, img_paths)"
   ]
  }
 ],
 "metadata": {
  "kernelspec": {
   "display_name": "Python 3 (ipykernel)",
   "language": "python",
   "name": "python3"
  },
  "language_info": {
   "codemirror_mode": {
    "name": "ipython",
    "version": 3
   },
   "file_extension": ".py",
   "mimetype": "text/x-python",
   "name": "python",
   "nbconvert_exporter": "python",
   "pygments_lexer": "ipython3",
   "version": "3.8.8"
  },
  "toc": {
   "base_numbering": 1,
   "nav_menu": {},
   "number_sections": true,
   "sideBar": true,
   "skip_h1_title": false,
   "title_cell": "Table of Contents",
   "title_sidebar": "Contents",
   "toc_cell": false,
   "toc_position": {},
   "toc_section_display": true,
   "toc_window_display": false
  }
 },
 "nbformat": 4,
 "nbformat_minor": 5
}
