{
 "cells": [
  {
   "cell_type": "markdown",
   "id": "65a5377e-9695-4bad-bd53-0ab302a11f89",
   "metadata": {},
   "source": [
    "# Label Images with Cluster Colors\n",
    "\n",
    "Teng-Jui Lin\n",
    "\n",
    "Created: 2022-10-04\n",
    "\n",
    "Edited: 2022-10-04\n",
    "\n",
    "Objective: Label binarized images with cluster colors."
   ]
  },
  {
   "cell_type": "code",
   "execution_count": 1,
   "id": "5d356fe6-8207-4a34-8159-dd7cb05eb3fa",
   "metadata": {},
   "outputs": [],
   "source": [
    "import os\n",
    "import matplotlib.pyplot as plt\n",
    "import numpy as np\n",
    "import vampire as vp"
   ]
  },
  {
   "cell_type": "code",
   "execution_count": 2,
   "id": "bf4d486a-a400-431d-976b-550e48255467",
   "metadata": {},
   "outputs": [],
   "source": [
    "img_set_path = r'/Users/tlin/Files/2019-2023 University of Washington/_nance-lab/research-data/microfiber/rat-ogd/2-thresholded-data-tif'\n",
    "data_path = r'/Users/tlin/Files/2019-2023 University of Washington/_nance-lab/research-data/microfiber/rat-ogd/4-vampire-analysis-data'\n",
    "output_path = r'/Users/tlin/Files/2019-2023 University of Washington/_nance-lab/research-data/microfiber/rat-ogd/6-colored-imgs'\n",
    "# model_path = os.path.join(output_path, 'model_otsu_(50_5_29)__otsu.pickle')\n",
    "# vampire_model = vp.util.read_pickle(model_path)\n",
    "property_path = os.path.join(data_path, 'apply-properties_otsu_on_otsu_(50_5_29)__.pickle')\n",
    "apply_properties_df = vp.util.read_pickle(property_path)"
   ]
  },
  {
   "cell_type": "code",
   "execution_count": 3,
   "id": "cb9d51fd-5351-439e-8466-5a5978b9ddc4",
   "metadata": {},
   "outputs": [],
   "source": [
    "filenames = vp.extraction.get_filtered_filenames(img_set_path, [])\n",
    "img_set = vp.extraction.get_img_set(img_set_path, filenames)"
   ]
  },
  {
   "cell_type": "code",
   "execution_count": 4,
   "id": "5320022b-fc0d-4d1f-a619-7970c68fe3ac",
   "metadata": {},
   "outputs": [],
   "source": [
    "labeled_imgs = vp.coloring.label_imgs(img_set, apply_properties_df)"
   ]
  },
  {
   "cell_type": "code",
   "execution_count": 7,
   "id": "f6ee1603-71c1-48cd-b0e6-b656bdb03457",
   "metadata": {},
   "outputs": [],
   "source": [
    "for i, labeled_img in enumerate(labeled_imgs):\n",
    "    fig, ax, colors = vp.coloring.color_img(labeled_img)\n",
    "    fig.savefig(os.path.join(output_path, f\"colored_{filenames[i].replace('.tif', '.png')}\"))\n",
    "    plt.close()"
   ]
  }
 ],
 "metadata": {
  "kernelspec": {
   "display_name": "Python 3 (ipykernel)",
   "language": "python",
   "name": "python3"
  },
  "language_info": {
   "codemirror_mode": {
    "name": "ipython",
    "version": 3
   },
   "file_extension": ".py",
   "mimetype": "text/x-python",
   "name": "python",
   "nbconvert_exporter": "python",
   "pygments_lexer": "ipython3",
   "version": "3.9.13"
  }
 },
 "nbformat": 4,
 "nbformat_minor": 5
}
