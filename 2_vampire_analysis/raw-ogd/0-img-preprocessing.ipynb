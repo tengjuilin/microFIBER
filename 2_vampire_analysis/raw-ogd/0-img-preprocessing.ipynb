{
 "cells": [
  {
   "cell_type": "markdown",
   "id": "82fc39e4",
   "metadata": {
    "tags": []
   },
   "source": [
    "# Rat OGD Image Preprocessing\n",
    "\n",
    "Teng-Jui Lin\n",
    "\n",
    "Created: 2022-05-20\n",
    "\n",
    "Edited: 2022-08-18\n",
    "\n",
    "Objective: Preprocess the given unlabeled images in `.npy` to labeled images in `.tif` for further VAMPIRE analysis.\n",
    "\n",
    "Assumption: The folder only contains `.npy` files of interest for image preprocessing.\n",
    "\n",
    "## Read, label, and write images"
   ]
  },
  {
   "cell_type": "code",
   "execution_count": 1,
   "id": "e8818a21-7bb7-4278-aa08-2c1ae7eff529",
   "metadata": {},
   "outputs": [
    {
     "name": "stdout",
     "output_type": "stream",
     "text": [
      "/opt/miniconda3/envs/vampire-analysis/bin/python\n",
      "Python 3.9.12\n"
     ]
    }
   ],
   "source": [
    "!where python\n",
    "!python --version"
   ]
  },
  {
   "cell_type": "code",
   "execution_count": 2,
   "id": "61db0e3b",
   "metadata": {
    "ExecuteTime": {
     "end_time": "2022-02-26T01:17:57.267239Z",
     "start_time": "2022-02-26T01:17:54.301897Z"
    }
   },
   "outputs": [],
   "source": [
    "import os\n",
    "\n",
    "import matplotlib.pyplot as plt\n",
    "import numpy as np\n",
    "import pandas as pd\n",
    "import skimage\n",
    "import vampire as vp\n",
    "from skimage import io"
   ]
  },
  {
   "cell_type": "code",
   "execution_count": 3,
   "id": "fec39cb5",
   "metadata": {
    "ExecuteTime": {
     "end_time": "2022-02-26T01:17:57.316837Z",
     "start_time": "2022-02-26T01:17:57.292857Z"
    }
   },
   "outputs": [],
   "source": [
    "# set up filepaths to .npy files\n",
    "# assume the folder has only .npy files of interest\n",
    "data_npy_dir = r\"/Users/tlin/Files/2019-2023 University of Washington/_nance-lab/research-data/microfiber/rat-ogd/1-thresholded-data-npy\"\n",
    "filenames = np.array(os.listdir(data_npy_dir))\n",
    "os_path_join = np.vectorize(os.path.join)\n",
    "filepaths = os_path_join(data_npy_dir, filenames)\n",
    "\n",
    "# filter for .npy files - avoid hidden file problem like .DS_Store\n",
    "# separate otsu and yen thereholded images\n",
    "npy_mask = pd.Series(filepaths).str.contains(\"\\.npy\").to_numpy()\n",
    "otsu_mask = pd.Series(filepaths).str.contains(\"otsu\").to_numpy()\n",
    "yen_mask = pd.Series(filepaths).str.contains(\"yen\").to_numpy()\n",
    "otsu_filepaths = filepaths[npy_mask & otsu_mask]\n",
    "yen_filepaths = filepaths[npy_mask & yen_mask]"
   ]
  },
  {
   "cell_type": "code",
   "execution_count": 4,
   "id": "a3a49b51",
   "metadata": {
    "ExecuteTime": {
     "end_time": "2022-02-26T01:17:57.322778Z",
     "start_time": "2022-02-26T01:17:57.317791Z"
    }
   },
   "outputs": [],
   "source": [
    "def load_imgs(filepaths):\n",
    "    \"\"\"Filepaths are paths to images. Returns image ndarrays.\"\"\"\n",
    "    imgs = []\n",
    "    for filepath in filepaths:\n",
    "        imgs.append(skimage.measure.label(np.load(filepath)))\n",
    "    return imgs"
   ]
  },
  {
   "cell_type": "code",
   "execution_count": 5,
   "id": "902f7e9d",
   "metadata": {
    "ExecuteTime": {
     "end_time": "2022-02-26T01:18:10.141972Z",
     "start_time": "2022-02-26T01:17:57.323775Z"
    }
   },
   "outputs": [],
   "source": [
    "otsu_imgs = load_imgs(otsu_filepaths)\n",
    "yen_imgs = load_imgs(yen_filepaths)"
   ]
  },
  {
   "cell_type": "code",
   "execution_count": 6,
   "id": "e32bf0e3",
   "metadata": {
    "ExecuteTime": {
     "end_time": "2022-02-26T01:18:10.150918Z",
     "start_time": "2022-02-26T01:18:10.142941Z"
    }
   },
   "outputs": [],
   "source": [
    "# output paths of .tif files\n",
    "otsu_img_paths = (\n",
    "    pd.Series(otsu_filepaths)\n",
    "    .str.replace(\"1-thresholded-data-npy\", \"2-thresholded-data-tif\")\n",
    "    .str.replace(\"npy\", \"tif\")\n",
    "    .to_numpy()\n",
    ")\n",
    "yen_img_paths = (\n",
    "    pd.Series(yen_filepaths)\n",
    "    .str.replace(\"1-thresholded-data-npy\", \"2-thresholded-data-tif\")\n",
    "    .str.replace(\"npy\", \"tif\")\n",
    "    .to_numpy()\n",
    ")"
   ]
  },
  {
   "cell_type": "code",
   "execution_count": 7,
   "id": "b3e20795",
   "metadata": {
    "ExecuteTime": {
     "end_time": "2022-02-26T01:18:10.161890Z",
     "start_time": "2022-02-26T01:18:10.154908Z"
    }
   },
   "outputs": [],
   "source": [
    "def save_imgs(img_set, save_img_paths):\n",
    "    for i in range(len(img_set)):\n",
    "        io.imsave(save_img_paths[i], img_set[i])"
   ]
  },
  {
   "cell_type": "code",
   "execution_count": 8,
   "id": "1ac938b0",
   "metadata": {
    "ExecuteTime": {
     "end_time": "2022-02-26T01:18:20.188290Z",
     "start_time": "2022-02-26T01:18:10.164883Z"
    }
   },
   "outputs": [],
   "source": [
    "import warnings\n",
    "\n",
    "# expect low contrast .tif images\n",
    "warnings.filterwarnings(\"ignore\", category=UserWarning)\n",
    "save_imgs(otsu_imgs, otsu_img_paths)\n",
    "save_imgs(yen_imgs, yen_img_paths)"
   ]
  }
 ],
 "metadata": {
  "kernelspec": {
   "display_name": "Python 3 (ipykernel)",
   "language": "python",
   "name": "python3"
  },
  "language_info": {
   "codemirror_mode": {
    "name": "ipython",
    "version": 3
   },
   "file_extension": ".py",
   "mimetype": "text/x-python",
   "name": "python",
   "nbconvert_exporter": "python",
   "pygments_lexer": "ipython3",
   "version": "3.10.5"
  },
  "toc": {
   "base_numbering": 1,
   "nav_menu": {},
   "number_sections": true,
   "sideBar": true,
   "skip_h1_title": false,
   "title_cell": "Table of Contents",
   "title_sidebar": "Contents",
   "toc_cell": false,
   "toc_position": {},
   "toc_section_display": true,
   "toc_window_display": false
  }
 },
 "nbformat": 4,
 "nbformat_minor": 5
}
