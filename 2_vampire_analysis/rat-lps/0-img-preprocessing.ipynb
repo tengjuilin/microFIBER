{
 "cells": [
  {
   "cell_type": "markdown",
   "id": "82fc39e4",
   "metadata": {},
   "source": [
    "# Rat LPS Image Preprocessing\n",
    "\n",
    "Created: 2022-05-19\n",
    "\n",
    "Edited: 2022-10-04\n",
    "\n",
    "Objective: Preprocess the given unlabeled images in `.npy` to labeled images in `.tif` for further VAMPIRE analysis.\n",
    "\n",
    "Assumption: The folder only contains `.npy` files of interest for image preprocessing.\n",
    "\n",
    "## Read, label, and write images"
   ]
  },
  {
   "cell_type": "code",
   "execution_count": 1,
   "id": "61db0e3b",
   "metadata": {
    "ExecuteTime": {
     "end_time": "2022-02-26T01:17:57.267239Z",
     "start_time": "2022-02-26T01:17:54.301897Z"
    }
   },
   "outputs": [],
   "source": [
    "import os\n",
    "\n",
    "import matplotlib.pyplot as plt\n",
    "import numpy as np\n",
    "import pandas as pd\n",
    "import skimage\n",
    "import vampire as vp\n",
    "from skimage import io"
   ]
  },
  {
   "cell_type": "code",
   "execution_count": 2,
   "id": "dd98541c-41d4-4e41-b69c-a956a0bd8f35",
   "metadata": {
    "ExecuteTime": {
     "end_time": "2022-02-26T01:17:57.316837Z",
     "start_time": "2022-02-26T01:17:57.292857Z"
    }
   },
   "outputs": [],
   "source": [
    "# set up filepaths to .npy files\n",
    "# assume the folder has only .npy files of interest\n",
    "DATA_DIR = r'/Users/tlin/Files/2019-2023 University of Washington/_nance-lab/research-data/microfiber/rat-lps/1-thresholded-data-npy'\n",
    "filenames = np.array(os.listdir(DATA_DIR))  # assume the folder has only .npy files of interest\n",
    "os_path_join = np.vectorize(os.path.join)\n",
    "filepaths = os_path_join(DATA_DIR, filenames)\n",
    "\n",
    "# filter for .npy files - avoid hidden file problem like .DS_Store\n",
    "npy_mask = pd.Series(filepaths).str.contains(\"\\.npy\").to_numpy()\n",
    "filepaths = filepaths[npy_mask]"
   ]
  },
  {
   "cell_type": "code",
   "execution_count": 3,
   "id": "a3a49b51",
   "metadata": {
    "ExecuteTime": {
     "end_time": "2022-02-26T01:17:57.322778Z",
     "start_time": "2022-02-26T01:17:57.317791Z"
    }
   },
   "outputs": [],
   "source": [
    "def load_imgs(filepaths):\n",
    "    \"\"\"Filepaths are paths to images. Returns image ndarrays.\"\"\"\n",
    "    imgs = []\n",
    "    for filepath in filepaths:\n",
    "        imgs.append(skimage.measure.label(np.load(filepath)))\n",
    "    return imgs"
   ]
  },
  {
   "cell_type": "code",
   "execution_count": 4,
   "id": "902f7e9d",
   "metadata": {
    "ExecuteTime": {
     "end_time": "2022-02-26T01:18:10.141972Z",
     "start_time": "2022-02-26T01:17:57.323775Z"
    }
   },
   "outputs": [],
   "source": [
    "imgs = load_imgs(filepaths)"
   ]
  },
  {
   "cell_type": "code",
   "execution_count": 5,
   "id": "e32bf0e3",
   "metadata": {
    "ExecuteTime": {
     "end_time": "2022-02-26T01:18:10.150918Z",
     "start_time": "2022-02-26T01:18:10.142941Z"
    }
   },
   "outputs": [],
   "source": [
    "# output paths of .tif files\n",
    "output_img_paths = (\n",
    "    pd.Series(filepaths)\n",
    "    .str.replace('1-thresholded-data-npy', '2-thresholded-data-tif')\n",
    "    .str.replace('npy', 'tif')\n",
    "    .to_numpy()\n",
    ")"
   ]
  },
  {
   "cell_type": "code",
   "execution_count": 6,
   "id": "b3e20795",
   "metadata": {
    "ExecuteTime": {
     "end_time": "2022-02-26T01:18:10.161890Z",
     "start_time": "2022-02-26T01:18:10.154908Z"
    }
   },
   "outputs": [],
   "source": [
    "def save_imgs(img_set, save_img_paths):\n",
    "    for i in range(len(img_set)):\n",
    "        io.imsave(save_img_paths[i], img_set[i])"
   ]
  },
  {
   "cell_type": "code",
   "execution_count": 7,
   "id": "1ac938b0",
   "metadata": {
    "ExecuteTime": {
     "end_time": "2022-02-26T01:18:20.188290Z",
     "start_time": "2022-02-26T01:18:10.164883Z"
    }
   },
   "outputs": [],
   "source": [
    "import warnings\n",
    "warnings.filterwarnings(\"ignore\", category=UserWarning)  # expect low contrast .tif images\n",
    "save_imgs(imgs, output_img_paths)"
   ]
  }
 ],
 "metadata": {
  "kernelspec": {
   "display_name": "Python 3 (ipykernel)",
   "language": "python",
   "name": "python3"
  },
  "language_info": {
   "codemirror_mode": {
    "name": "ipython",
    "version": 3
   },
   "file_extension": ".py",
   "mimetype": "text/x-python",
   "name": "python",
   "nbconvert_exporter": "python",
   "pygments_lexer": "ipython3",
   "version": "3.10.5"
  },
  "toc": {
   "base_numbering": 1,
   "nav_menu": {},
   "number_sections": true,
   "sideBar": true,
   "skip_h1_title": false,
   "title_cell": "Table of Contents",
   "title_sidebar": "Contents",
   "toc_cell": false,
   "toc_position": {},
   "toc_section_display": true,
   "toc_window_display": false
  }
 },
 "nbformat": 4,
 "nbformat_minor": 5
}
